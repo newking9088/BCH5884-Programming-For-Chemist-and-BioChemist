{
 "cells": [
  {
   "cell_type": "markdown",
   "metadata": {},
   "source": [
    "<h1> Assignment 3 </h1>\n",
    "<br>\n",
    "For github link <a href=\"\" target=\"_blank\"> click here. </a>\n",
    "<font color= \"green\">Write the two scripts described below and submit to Canvas. Also commit the code to your GitHub repository.\n",
    "For both scripts, include a link to your repository as a comment in the second line of the script.<br>\n",
    "\n",
    "1) Write a script that asks for temp in degrees Fahrenheit (from std_in) and returns temp in degrees \n",
    "Kelvin (to std_out)\n",
    "\n",
    " \n",
    "\n",
    "2) For a triangle, calculate and print angles α, β, and γ (to std_out) given points A, B, and C, \n",
    "(from std_in) as illustrated below. </font>\n",
    "\n",
    "<img src=\"Picture1.png\" height=\"400px\" width=\"400px\">\n",
    "<br>\n",
    "\n",
    "**Law of Cosines**<br>\n",
    "\n",
    "We use angle version of law of cosines:<br>\n",
    "    <font color=\"red\"><br>\n",
    "&emsp;    *  $Cos(\\alpha) = \\frac{(AB ^ 2 + CA ^ 2 - BC ^ 2)}{2 AB . CA}$\n",
    "<br>\n",
    "&emsp;     *  $Cos(\\beta) = \\frac{(AB ^ 2 + BC ^ 2 - CA ^ 2)}{2 AB . BC}$\n",
    "<br>\n",
    "&emsp;     *  $Cos(\\gamma) = \\frac{(BC ^ 2 + CA ^ 2 - AB ^ 2)}{2 BC . CA}$\n",
    "</font>\n",
    "<br>\n"
   ]
  },
  {
   "cell_type": "markdown",
   "metadata": {},
   "source": [
    "<h2> Part I: Fahrenheit to Kelvin Conversion </h2>"
   ]
  },
  {
   "cell_type": "code",
   "execution_count": 1,
   "metadata": {},
   "outputs": [
    {
     "name": "stdout",
     "output_type": "stream",
     "text": [
      "Enter temperature inFahrenheit(a real number): 100\n"
     ]
    }
   ],
   "source": [
    "\"\"\"This program accepts real number as Fahrenheit degrees\n",
    "and coverts ito int Kelvin degress and returns as output\"\"\"\n",
    "\n",
    "# Input: Ask for the user input and convert it to a float\n",
    "fahrenheit = float(input('Enter temperature in\\\n",
    "Fahrenheit(a real number): '))"
   ]
  },
  {
   "cell_type": "code",
   "execution_count": 2,
   "metadata": {},
   "outputs": [],
   "source": [
    "# Processing: Write the mathematical formula for conversion\n",
    "kelvin = 273.15 + ((fahrenheit - 32.0) * 5.0)/9.0"
   ]
  },
  {
   "cell_type": "code",
   "execution_count": 3,
   "metadata": {},
   "outputs": [
    {
     "name": "stdout",
     "output_type": "stream",
     "text": [
      "100.00 degrees Fahrenheit converts into 310.93 Kelvin degrees.\n"
     ]
    }
   ],
   "source": [
    "# Output: Print the output\n",
    "print(\"{0:.2f} degrees Fahrenheit converts \\\n",
    "into {1:.2f} Kelvin degrees.\"\n",
    "      .format(fahrenheit, kelvin))"
   ]
  },
  {
   "cell_type": "markdown",
   "metadata": {},
   "source": [
    "&emsp; **This is how we convert x $^{\\circ}$F to y $^{\\circ}$K \n",
    "where x is your input and y is the ouput produced by the program**"
   ]
  },
  {
   "cell_type": "markdown",
   "metadata": {},
   "source": [
    "<h1> Part II: Calculate Angles of a Triangle </h1>\n",
    "<br>"
   ]
  },
  {
   "cell_type": "code",
   "execution_count": 4,
   "metadata": {},
   "outputs": [],
   "source": [
    "# import required module\n",
    "import math"
   ]
  },
  {
   "cell_type": "code",
   "execution_count": 5,
   "metadata": {},
   "outputs": [
    {
     "name": "stdout",
     "output_type": "stream",
     "text": [
      "Enter the length of AB in cm: 10\n",
      "Enter the length of BC in cm: 15\n",
      "Enter the length of CA in cm: 20\n"
     ]
    }
   ],
   "source": [
    "\"\"\"This program takes the three lengths of a triangle:\n",
    "namely AB, BC and CA then calculates three angles\n",
    "alpha between AB and CA, beta between AB and BC, gamma\n",
    "angle between BC and CA. Make sure every length is in\n",
    "same unit, here we will take lenght unit in cm\"\"\"\n",
    "\n",
    "# Inputs: Asking for three user inputs of traingle sides\n",
    "AB = float(input(\"Enter the length of AB in cm: \"))\n",
    "\n",
    "BC = float(input(\"Enter the length of BC in cm: \"))\n",
    "\n",
    "CA = float(input(\"Enter the length of CA in cm: \"))"
   ]
  },
  {
   "cell_type": "code",
   "execution_count": 6,
   "metadata": {},
   "outputs": [],
   "source": [
    "# Processing: Formula to find angles\n",
    "alpha = math.acos((AB**2 + CA **2 - BC ** 2)/(2.0*AB*CA))\n",
    "beta = math.acos((AB**2 + BC **2 - CA ** 2)/(2.0*AB*BC))\n",
    "gamma = math.acos((CA**2 + BC **2 - AB ** 2)/(2.0*CA*BC))"
   ]
  },
  {
   "cell_type": "code",
   "execution_count": 7,
   "metadata": {},
   "outputs": [
    {
     "name": "stdout",
     "output_type": "stream",
     "text": [
      "Angle alpha between AB and CA in radian is 0.8128.\n"
     ]
    }
   ],
   "source": [
    "print(\"Angle alpha between AB and CA in radian is {0:.4f}.\"\n",
    "      .format(alpha))"
   ]
  },
  {
   "cell_type": "code",
   "execution_count": 8,
   "metadata": {},
   "outputs": [
    {
     "name": "stdout",
     "output_type": "stream",
     "text": [
      "Angle beta between AB and BC in radian is 1.8235.\n"
     ]
    }
   ],
   "source": [
    "print(\"Angle beta between AB and BC in radian is {0:.4f}.\"\n",
    "      .format(beta))"
   ]
  },
  {
   "cell_type": "code",
   "execution_count": 9,
   "metadata": {},
   "outputs": [
    {
     "name": "stdout",
     "output_type": "stream",
     "text": [
      "Angle gamma between BC and CA in radian is 0.5054.\n"
     ]
    }
   ],
   "source": [
    "print(\"Angle gamma between BC and CA in radian is {0:.4f}.\"\n",
    "      .format(gamma))"
   ]
  },
  {
   "cell_type": "code",
   "execution_count": 10,
   "metadata": {},
   "outputs": [
    {
     "name": "stdout",
     "output_type": "stream",
     "text": [
      "Theoretical value of sum of three anglesof a triangle in radian is 3.1416.\n",
      "\n",
      "Sum of three angles of a triangle in radianwe calculated is 3.1416\n"
     ]
    }
   ],
   "source": [
    "# Check if the sum of three angles of a triangle is pi radian\n",
    "print(\"Theoretical value of sum of three angles\\\n",
    "of a triangle in radian is {0:.4f}.\"\n",
    "      .format(math.pi))\n",
    "print()\n",
    "print(\"Sum of three angles of a triangle in radian\\\n",
    "we calculated is {0:.4f}\".format(alpha + beta + gamma))"
   ]
  },
  {
   "cell_type": "code",
   "execution_count": 14,
   "metadata": {},
   "outputs": [],
   "source": [
    "# Quick way is using function that takes three sides\n",
    "# as an input\n",
    "\"\"\"def triangle(a,b,c):\n",
    "    return [math.acos((a ** 2 + b **2 - c ** 2)/(2.0 * a * b)),\n",
    "            math.acos((b ** 2 + c **2 - a ** 2)/(2.0 * b * c)),\n",
    "            math.acos((c**2 + a **2 - b ** 2)/(2.0 * c * a))]\"\"\""
   ]
  },
  {
   "cell_type": "code",
   "execution_count": 16,
   "metadata": {},
   "outputs": [],
   "source": [
    "#sum(triangle(3,4,5))"
   ]
  },
  {
   "cell_type": "code",
   "execution_count": 19,
   "metadata": {},
   "outputs": [
    {
     "name": "stdout",
     "output_type": "stream",
     "text": [
      "Enter temp: x\n",
      "Error occurred! Please enter a real number.\n"
     ]
    }
   ],
   "source": [
    "#for the first part, make sure input is\n",
    "# a real number\n",
    "\n",
    "try:\n",
    "    fahrenheit = float(input(\"Enter temp: \"))\n",
    "except:\n",
    "    print(\"Error occurred! Please enter a \\\n",
    "real number.\")"
   ]
  },
  {
   "cell_type": "code",
   "execution_count": null,
   "metadata": {},
   "outputs": [],
   "source": []
  }
 ],
 "metadata": {
  "kernelspec": {
   "display_name": "anaconda3",
   "language": "python",
   "name": "anaconda3"
  },
  "language_info": {
   "codemirror_mode": {
    "name": "ipython",
    "version": 3
   },
   "file_extension": ".py",
   "mimetype": "text/x-python",
   "name": "python",
   "nbconvert_exporter": "python",
   "pygments_lexer": "ipython3",
   "version": "3.8.3"
  }
 },
 "nbformat": 4,
 "nbformat_minor": 4
}
