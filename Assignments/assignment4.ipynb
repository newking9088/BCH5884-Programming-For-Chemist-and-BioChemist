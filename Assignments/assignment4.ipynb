{
 "cells": [
  {
   "cell_type": "markdown",
   "metadata": {},
   "source": [
    "###                               Calculate RMSD between to pdb files\n",
    "####                                    Assignment - 05\n",
    "####                                    Date : 10/29/2020\n",
    "<hr>\n",
    "Write the script described below and turn it in on Canvas as well as your GitHub repository. Be sure to include a comment with the link to your GitHub repository on the second line of your code.\n",
    "\n",
    "Write a script that will calculate the root mean squared deviation (RMSD) between two PDB structures. You can assume the PDBs will have atoms in the same order with the same atom number. RMSD is calculated according to this equation:\n",
    "    $\\frac{\\sum_{n=1}^{n}(v_{ix} - w_{ix})^2 + (v_{iy} - w_{iy})^2 + (v_{iz} - w_{iz})^2}{n}$\n",
    "where v and w represent the set of coordinates for two different pdb files and n is the total number of atoms. Note, the summation symbol is essentially an instruction that says \"do a loop\". \n",
    "\n",
    "You should compose at least two functions in your script. One should read the pdb and return a list of atoms. The second should take two lists of atoms, and return the RMSD.\n",
    "\n",
    "Use your script to calculate the RMSD between these two pdb structures:\n",
    "\n",
    "2FA9noend.pdb and 2FA9noend2mov.pdb that can be found in root of my GitHub repository.\n",
    "\n",
    "Github Link: <a href=\"https://github.com/newking9088/BCH5884-Programming-For-Chemist-and-BioChemist/blob/master/Assignments/assignment4.ipynb\" target=\"_blank\"> Click here. </a>"
   ]
  },
  {
   "cell_type": "code",
   "execution_count": 1,
   "metadata": {},
   "outputs": [
    {
     "data": {
      "text/plain": [
       "'Define a function that reads pdb and returns a list of atoms'"
      ]
     },
     "execution_count": 1,
     "metadata": {},
     "output_type": "execute_result"
    }
   ],
   "source": [
    "\"\"\"Define a function that reads pdb and returns a list of atoms\"\"\""
   ]
  },
  {
   "cell_type": "code",
   "execution_count": 2,
   "metadata": {},
   "outputs": [],
   "source": [
    "def readpdb(fileName):\n",
    "    \"\"\"Usage: readpdb(fileName), make sure file path is correct.\n",
    "    Fucntion: Takes .pdb file as input and returns a list of atoms\n",
    "    with atom name and its x, y, z coordinates. \"\"\" \n",
    "    \n",
    "    with open (fileName,\"r\") as f:\n",
    "        pdbFile = f.readlines()\n",
    "    \n",
    "    #parse the pdb\n",
    "    records=[]\n",
    "    for line in pdbFile:\n",
    "        if line[:4]==\"ATOM\" or line[:6]==\"HETATM\":\n",
    "            d={}\n",
    "            #d['rtype']=line[0:6]\n",
    "            #d['atomnumber']=int(line[6:11])\n",
    "            d['atomtype']=line[12:16]\n",
    "            #d['altloc']=line[16:17]\n",
    "            #d['residue']=line[17:20]\n",
    "            #d['chain']=line[21:22]\n",
    "            #d['residuenumber']=int(line[22:26])\n",
    "            #d['icode']=line[26:27]\n",
    "            d['x']=float(line[30:38])\n",
    "            d['y']=float(line[38:46])\n",
    "            d['z']=float(line[46:54])\n",
    "            #d['occupancy']=float(line[54:60])\n",
    "            #d['tempfact']=float(line[60:66])\n",
    "            #d['element']=line[76:78].strip()\n",
    "            #d['charge']=line[78:80].strip()\n",
    "            records.append(d)\n",
    "    return records"
   ]
  },
  {
   "cell_type": "code",
   "execution_count": 3,
   "metadata": {},
   "outputs": [
    {
     "name": "stdout",
     "output_type": "stream",
     "text": [
      "Help on function readpdb in module __main__:\n",
      "\n",
      "readpdb(fileName)\n",
      "    Usage: readpdb(fileName), make sure file path is correct.\n",
      "    Fucntion: Takes .pdb file as input and returns a list of atoms\n",
      "    with atom name and its x, y, z coordinates.\n",
      "\n"
     ]
    }
   ],
   "source": [
    "help(readpdb)"
   ]
  },
  {
   "cell_type": "code",
   "execution_count": 4,
   "metadata": {
    "scrolled": false
   },
   "outputs": [],
   "source": [
    "l1 = readpdb(\"2FA9noend.pdb\")"
   ]
  },
  {
   "cell_type": "code",
   "execution_count": 5,
   "metadata": {},
   "outputs": [],
   "source": [
    "l2 = readpdb(\"2FA9noend2mov.pdb\")"
   ]
  },
  {
   "cell_type": "code",
   "execution_count": 6,
   "metadata": {},
   "outputs": [
    {
     "data": {
      "text/plain": [
       "'Define a function that takes two lists and returns RMSD'"
      ]
     },
     "execution_count": 6,
     "metadata": {},
     "output_type": "execute_result"
    }
   ],
   "source": [
    "\"\"\"Define a function that takes two lists and returns RMSD\"\"\""
   ]
  },
  {
   "cell_type": "code",
   "execution_count": 44,
   "metadata": {},
   "outputs": [],
   "source": [
    "def rmsd(list1,list2):\n",
    "    \"\"\"Usage: rmsd(list1,list2).\n",
    "    Fucntion: Takes two lists as input and returns \n",
    "    root mean square deviation (rmsd)\"\"\"\n",
    "    rmsd = ((sum([(l1[i]['x']-l2[i]['x'])**2 +\n",
    "                        (l1[i]['y']-l2[i]['y'])**2 +\n",
    "                        (l1[i]['z']-l2[i]['z'])**2\n",
    "                        for i in range(len(l1))]))**0.5)/len(l1)\n",
    "    print(\"The root mean square deviation (rmsd) is: {:.4f}. \".format(rmsd))\n",
    "    return rmsd"
   ]
  },
  {
   "cell_type": "code",
   "execution_count": 45,
   "metadata": {
    "scrolled": false
   },
   "outputs": [
    {
     "name": "stdout",
     "output_type": "stream",
     "text": [
      "The root mean square deviation (rmsd) is: 0.0279. \n"
     ]
    },
    {
     "data": {
      "text/plain": [
       "0.02785790236704913"
      ]
     },
     "execution_count": 45,
     "metadata": {},
     "output_type": "execute_result"
    }
   ],
   "source": [
    "rmsd(l1,l2)"
   ]
  }
 ],
 "metadata": {
  "kernelspec": {
   "display_name": "anaconda3",
   "language": "python",
   "name": "anaconda3"
  },
  "language_info": {
   "codemirror_mode": {
    "name": "ipython",
    "version": 3
   },
   "file_extension": ".py",
   "mimetype": "text/x-python",
   "name": "python",
   "nbconvert_exporter": "python",
   "pygments_lexer": "ipython3",
   "version": "3.8.3"
  }
 },
 "nbformat": 4,
 "nbformat_minor": 4
}
