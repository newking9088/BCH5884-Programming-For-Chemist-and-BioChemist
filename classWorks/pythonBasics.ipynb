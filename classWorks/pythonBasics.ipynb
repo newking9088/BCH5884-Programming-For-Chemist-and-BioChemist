{
 "cells": [
  {
   "cell_type": "markdown",
   "metadata": {},
   "source": [
    "# PYTHON3 FUNDAMENTALS -- CLASSWORK2-- 09/15/2020"
   ]
  },
  {
   "cell_type": "markdown",
   "metadata": {},
   "source": [
    "** Literal - a representation of specific value. In x = 3 + 5 values 3, 5 are called literals <br>\n",
    "** Operator- a symbol that combines expressions (+, -, *, **, /, //, %)<br>\n",
    "** Basics Types of literals in Python:int, float, string, bool (True/False), complex, list, tuple, dict, set, unicode "
   ]
  },
  {
   "cell_type": "code",
   "execution_count": null,
   "metadata": {},
   "outputs": [],
   "source": [
    "x = 3\n",
    "print(\"Type x:\", type(x))\n",
    "\n",
    "y=3.0\n",
    "print(\"Type y:\", type(y))\n",
    "\n",
    "z=2+3j\n",
    "print(\"Type z:\", type(z))\n",
    "\n",
    "a = '3'\n",
    "print(\"Type a:\", type(a))\n",
    "\n",
    "b = True\n",
    "print(\"Type b:\",type(b))\n",
    "\n",
    "c = [1,2,'3', True]\n",
    "print(\"Type c:\",type(c))\n",
    "\n",
    "d = (1,4,5,'3')\n",
    "print(\"Type d:\",type(d))\n",
    "\n",
    "e = {(4,5,6,7)}   # defines set which takes list, tuple etc. as an input\n",
    "print(\"Type e:\",type(e))\n",
    "\n",
    "f = {'a':[1,2,3], 'b':{'x':True, 'y':False, 'z':None}, 'c':set([3, 4,5])}\n",
    "type(f)\n"
   ]
  },
  {
   "cell_type": "markdown",
   "metadata": {},
   "source": [
    "# Basic Math Operations"
   ]
  },
  {
   "cell_type": "code",
   "execution_count": 8,
   "metadata": {},
   "outputs": [
    {
     "name": "stdout",
     "output_type": "stream",
     "text": [
      "1\n",
      "1.6666666666666667\n",
      "2\n",
      "15\n",
      "18446744073709551616\n",
      "5\n",
      "-1\n",
      "3.141592653589793\n",
      "range(0, 10)\n",
      "Enter something: 10\n",
      "10\n",
      "<class 'str'>\n",
      "Enter an integer: 5\n",
      "<class 'int'>\n"
     ]
    },
    {
     "data": {
      "text/plain": [
       "5.0"
      ]
     },
     "execution_count": 8,
     "metadata": {},
     "output_type": "execute_result"
    }
   ],
   "source": [
    "x = 5//3   # integer division\n",
    "print(x)\n",
    "\n",
    "x = 5/3  # floor division\n",
    "print(x)\n",
    "\n",
    "x = 5 % 3 # modulo or remainder\n",
    "print(x)\n",
    "\n",
    "x = 5*3  # multiplication\n",
    "print(x)\n",
    "\n",
    "x = 2**64 # exponent\n",
    "print(x)\n",
    "\n",
    "x = 2 + 3  # addition\n",
    "print(x)\n",
    "\n",
    "x = 2 - 3 # subtraction\n",
    "print(x)\n",
    "\n",
    "import math\n",
    "x = math.pi\n",
    "print(x)\n",
    "\n",
    "x = range (10)   # the end number 10 is exclusive\n",
    "print(x) \n",
    "\n",
    "x = input (\"Enter something: \")   # asking user input\n",
    "print(x)\n",
    "print(type(x))  # input function always returns string output\n",
    "\n",
    "x = int(input(\"Enter an integer: \"))\n",
    "print(type(x))   # it should return <class : 'int'>\n",
    "\n",
    "x = 5\n",
    "y = float(x)    # converts x into float\n",
    "print(type(y))"
   ]
  },
  {
   "cell_type": "markdown",
   "metadata": {},
   "source": [
    "# while loop to find the sum\n",
    "## Used for conditional events or when there is an event flag or number of iterations is not known a priori"
   ]
  },
  {
   "cell_type": "code",
   "execution_count": null,
   "metadata": {},
   "outputs": [],
   "source": [
    "n = int(input('Enter a positive number: '))\n",
    "total = 0\n",
    "i = 1\n",
    "while ( i < (n + 1) ):\n",
    "    total += i\n",
    "    i += 1\n",
    "print(\"Sum of first n natural number is:\", total)\n",
    "    \n",
    "    "
   ]
  },
  {
   "cell_type": "markdown",
   "metadata": {},
   "source": [
    "# For loop to find the Sum\n",
    "## Used for counting or when the number of iterations is known a priori"
   ]
  },
  {
   "cell_type": "code",
   "execution_count": 3,
   "metadata": {},
   "outputs": [
    {
     "name": "stdout",
     "output_type": "stream",
     "text": [
      "Enter a positive number: 10\n",
      "55\n"
     ]
    }
   ],
   "source": [
    "n = int(input('Enter a positive number: '))\n",
    "total = 0\n",
    "for i in range(n+1):\n",
    "    total += i\n",
    "print(total)"
   ]
  }
 ],
 "metadata": {
  "kernelspec": {
   "display_name": "Python 3",
   "language": "python",
   "name": "python3"
  },
  "language_info": {
   "codemirror_mode": {
    "name": "ipython",
    "version": 3
   },
   "file_extension": ".py",
   "mimetype": "text/x-python",
   "name": "python",
   "nbconvert_exporter": "python",
   "pygments_lexer": "ipython3",
   "version": "3.8.2"
  }
 },
 "nbformat": 4,
 "nbformat_minor": 4
}
