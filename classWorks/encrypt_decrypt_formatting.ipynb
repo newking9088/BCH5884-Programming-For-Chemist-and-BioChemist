{
 "cells": [
  {
   "cell_type": "markdown",
   "metadata": {},
   "source": [
    "<h3> PYTHON FUNDAMENTALS: Classwork5 -- 10/29/2020 -- Encrypt and Decrypt</h3>\n",
    "<br>"
   ]
  },
  {
   "cell_type": "code",
   "execution_count": 30,
   "metadata": {},
   "outputs": [],
   "source": [
    "import sys, random"
   ]
  },
  {
   "cell_type": "markdown",
   "metadata": {},
   "source": [
    "## Encrypting a Phrase"
   ]
  },
  {
   "cell_type": "code",
   "execution_count": 31,
   "metadata": {},
   "outputs": [
    {
     "name": "stdout",
     "output_type": "stream",
     "text": [
      "Please input a phrase to beencrypted: Nawaraj\n"
     ]
    }
   ],
   "source": [
    "phrase = input(\"Please input a phrase to be\\\n",
    "encrypted: \")"
   ]
  },
  {
   "cell_type": "code",
   "execution_count": 32,
   "metadata": {},
   "outputs": [],
   "source": [
    "lowerPhrase = phrase.lower()"
   ]
  },
  {
   "cell_type": "code",
   "execution_count": 33,
   "metadata": {},
   "outputs": [],
   "source": [
    "key = random.randint(1,100)"
   ]
  },
  {
   "cell_type": "code",
   "execution_count": 34,
   "metadata": {},
   "outputs": [
    {
     "name": "stdout",
     "output_type": "stream",
     "text": [
      "50\n"
     ]
    }
   ],
   "source": [
    "print(key)"
   ]
  },
  {
   "cell_type": "code",
   "execution_count": 35,
   "metadata": {},
   "outputs": [],
   "source": [
    "newPhrase = ''"
   ]
  },
  {
   "cell_type": "code",
   "execution_count": 36,
   "metadata": {},
   "outputs": [
    {
     "name": "stdout",
     "output_type": "stream",
     "text": [
      "Your new phrase is:  lyuypyh\n"
     ]
    }
   ],
   "source": [
    "for ch in lowerPhrase:\n",
    "    i = ord(ch)-96\n",
    "    newChr = chr(((i+key)%26) + 96)\n",
    "    newPhrase += newChr\n",
    "print(\"Your new phrase is: \",newPhrase)"
   ]
  },
  {
   "cell_type": "markdown",
   "metadata": {},
   "source": [
    "##  Decrypting a Phrase"
   ]
  },
  {
   "cell_type": "code",
   "execution_count": 1,
   "metadata": {},
   "outputs": [],
   "source": [
    "decrypted =''"
   ]
  },
  {
   "cell_type": "code",
   "execution_count": null,
   "metadata": {
    "scrolled": true
   },
   "outputs": [],
   "source": [
    "for ch in newPhrase:\n",
    "    i = ord(ch) - 96\n",
    "    newi = (i-key)%26\n",
    "    decrypted += chr(newi + 96)\n"
   ]
  },
  {
   "cell_type": "code",
   "execution_count": 40,
   "metadata": {},
   "outputs": [
    {
     "name": "stdout",
     "output_type": "stream",
     "text": [
      "Your decrypted phrase is:  nawaraj\n"
     ]
    }
   ],
   "source": [
    "print(\"Your decrypted phrase is: \",decrypted)"
   ]
  },
  {
   "cell_type": "code",
   "execution_count": 5,
   "metadata": {},
   "outputs": [
    {
     "name": "stdout",
     "output_type": "stream",
     "text": [
      "Please enter a list in Python: 2.3\n"
     ]
    }
   ],
   "source": [
    "# evaluate understands its input type and \n",
    "# converts string input into that type\n",
    "s = eval(input(\"Please enter a list in Python: \"))"
   ]
  },
  {
   "cell_type": "code",
   "execution_count": 7,
   "metadata": {},
   "outputs": [
    {
     "data": {
      "text/plain": [
       "False"
      ]
     },
     "execution_count": 7,
     "metadata": {},
     "output_type": "execute_result"
    }
   ],
   "source": [
    "s == int"
   ]
  },
  {
   "cell_type": "code",
   "execution_count": 29,
   "metadata": {},
   "outputs": [
    {
     "name": "stdout",
     "output_type": "stream",
     "text": [
      "Formatted string tada!\n",
      "Formatted string tada!     !\n",
      "The owner of Walter is Nawaraj.\n",
      "This is the value of math.pi 3.142857\n",
      "This is the value of math.pi      3.142857\n",
      "This is the value of math.pi 3.142857     \n",
      "This is the value of math.pi 3.1428571429\n",
      "This is the value of math.pi  3.1428571429\n",
      "This is the value of math.pi 3.1428571429\n",
      "This is the value of math.pi +3.1428571429\n",
      "Formatting an int:     3\n",
      "\n",
      "Here is an integer    10\n"
     ]
    }
   ],
   "source": [
    "\"\"\"Formatted Output:\n",
    "%[name][flags][width][precision]code <- optional\n",
    "name <- dictionary key\n",
    "flags <- justification, \"-\" left justified,\n",
    "and \"+\" means explicitly show sign for numbers\n",
    "width <- number of spaces to use\n",
    "precision <- number of places after a decimal\n",
    "point for floats\\n\n",
    "code <- expected data type\n",
    "ex: % s <- string, %d <- digit, %f <- float\n",
    ",%r <- string but uses repr instead of str,\n",
    "%c <- chr, %i < integer, %o <- octal,\n",
    "%x <- hexadecimal, %e <- float exponential (scientific)\"\"\"\n",
    "print(\"Formatted string %s\"%(\"tada!\"))\n",
    "# left justified with 10 spaces\n",
    "print(\"Formatted string %-10s!\"%(\"tada!\"))\n",
    "# Use of dict() keys\n",
    "d = {\"owner\":\"Nawaraj\", \"pet\":\"Walter\"}\n",
    "print(\"The owner of %(pet)s is %(owner)s.\"%(d))\n",
    "# Use of float with 10 precision and so\n",
    "print(\"This is the value of math.pi %f\"%(22/7))\n",
    "print(\"This is the value of math.pi %13f\"%(22/7))\n",
    "print(\"This is the value of math.pi %-13f\"%(22/7))\n",
    "print(\"This is the value of math.pi %.10f\"%(22/7))\n",
    "print(\"This is the value of math.pi %13.10f\"%(22/7))\n",
    "print(\"This is the value of math.pi %5.10f\"%(22/7))\n",
    "print(\"This is the value of math.pi %+5.10f\"%(22/7))\n",
    "# Use of int\n",
    "print(\"Formatting an int: %5d\"%(3))\n",
    "print()\n",
    "# Using str.format() method\n",
    "print(\"Here is an integer {0:5d}\".format(2*5))"
   ]
  }
 ],
 "metadata": {
  "kernelspec": {
   "display_name": "anaconda3",
   "language": "python",
   "name": "anaconda3"
  },
  "language_info": {
   "codemirror_mode": {
    "name": "ipython",
    "version": 3
   },
   "file_extension": ".py",
   "mimetype": "text/x-python",
   "name": "python",
   "nbconvert_exporter": "python",
   "pygments_lexer": "ipython3",
   "version": "3.8.3"
  }
 },
 "nbformat": 4,
 "nbformat_minor": 4
}
