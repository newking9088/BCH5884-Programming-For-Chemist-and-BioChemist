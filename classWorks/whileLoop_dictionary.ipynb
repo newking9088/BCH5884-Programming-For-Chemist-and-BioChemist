{
 "cells": [
  {
   "cell_type": "markdown",
   "metadata": {},
   "source": [
    "## Loop with Conditionals <br>   \n",
    "Date: 10/13/2020\n",
    "<br>\n",
    "<p> while loop -- conditional event or iteration is not known a priori<br>\n",
    "    continue -- go to the next iteration<br>\n",
    "    break -- escape out of the loop<br>\n",
    "    pass -- do nothing place holder used when syntatically required to have\n",
    "    a statement, but don't want a calculation\n",
    "    \n",
    "    syntax: while <condition>:\n",
    "    statements1\n",
    "        if <condition>:\n",
    "            break    #exit the loop without processing remaining loop statements\n",
    "        if <condition>:\n",
    "            continue #skip remaining loop statements for current statements but don't break loop\n",
    "        statements2\n",
    "        else:\n",
    "            statements3    # run if we dont hit a break\n",
    "            "
   ]
  },
  {
   "cell_type": "code",
   "execution_count": null,
   "metadata": {},
   "outputs": [],
   "source": [
    "#!usr/bin/env/python3\n",
    "\n",
    "import sys\n",
    "\n",
    "if len(sys.argv) != 2:\n",
    "    print(\"Usage: filename.py <number>\")\n",
    "    print(\"___________________________\")\n",
    "    #sys.exit()\n",
    "#n = int(sys.argv[1])\n",
    "    \n",
    "n = int(input(\"Please enter an integer: \"))"
   ]
  },
  {
   "cell_type": "code",
   "execution_count": 18,
   "metadata": {},
   "outputs": [
    {
     "name": "stdout",
     "output_type": "stream",
     "text": [
      "Fourth statement\n",
      "Fifth statement\n",
      "Done!\n"
     ]
    }
   ],
   "source": [
    "# while-else loop\n",
    "while (n < 10):\n",
    "    n += 1\n",
    "    print(\"First statement\", n)\n",
    "    # two if means test both regardless first is True\n",
    "    if n == 6:\n",
    "        break\n",
    "    if n == 4:\n",
    "        continue\n",
    "    print(\"SEcond statement\",n)\n",
    "else:\n",
    "    pass     # do nothing\n",
    "    #print(\"Third statemet\", n)\n",
    "print(\"Fourth statement\")\n",
    "print(\"Fifth statement\")\n",
    "print(\"Done!\")\n",
    "    \n",
    "    \n",
    "    "
   ]
  },
  {
   "cell_type": "code",
   "execution_count": 20,
   "metadata": {},
   "outputs": [
    {
     "name": "stdout",
     "output_type": "stream",
     "text": [
      "Enter an integer: 2\n",
      "Less than three!\n"
     ]
    }
   ],
   "source": [
    "#n = int(sys.argv[1])\n",
    "n = int(input(\"Enter an integer: \"))\n",
    "if n > 3:\n",
    "    pass\n",
    "else:\n",
    "    print(\"Less than three!\")"
   ]
  },
  {
   "cell_type": "code",
   "execution_count": 24,
   "metadata": {},
   "outputs": [
    {
     "name": "stdout",
     "output_type": "stream",
     "text": [
      "Enter an integer: 179\n",
      "179 is prime\n"
     ]
    }
   ],
   "source": [
    "# Test if a number is prime using while-else loop and a break\n",
    "y = int(input(\"Enter an integer: \"))\n",
    "x = y//2\n",
    "while x > 1:\n",
    "    if y%x == 0:\n",
    "        print(\"%d has a factor of %d\"%(y,x))\n",
    "        break\n",
    "    x =- 1\n",
    "else:\n",
    "    print(\"%d is prime\"%(y))\n",
    "        "
   ]
  },
  {
   "cell_type": "code",
   "execution_count": 27,
   "metadata": {},
   "outputs": [],
   "source": [
    "\"\"\"Dictionaries aka mapping, associative array, hash, mutable, unordered\n",
    "dict () or {}..........d = {key:value} pair \n",
    "keys need not always to be a string but can be anything unmutable and they\n",
    "are unique in a dictionary; but value can be aything and not necessarily unique.\n",
    "d[key] is a way to accessing a dict() element and d[key] = value\n",
    "is a way to adding an element to dict()\n",
    "Methods:\n",
    "1)d.clear() wipes out the dict()\n",
    "2)d.get(key) is a method that return value if value is found but no index error is thrown\n",
    "3)key in d gives a bool\n",
    "4) d.keys()/values() gives a list of keys/values\n",
    "5) d.items() gives a list of tuples containg (key, value) pair\"\"\"\n",
    "\n",
    "d = dict()\n",
    "dir(d);"
   ]
  },
  {
   "cell_type": "code",
   "execution_count": 28,
   "metadata": {},
   "outputs": [
    {
     "data": {
      "text/plain": [
       "'woman'"
      ]
     },
     "execution_count": 28,
     "metadata": {},
     "output_type": "execute_result"
    }
   ],
   "source": [
    "d={\"Nawaraj\":\"man\", \"Kettle\":\"boy\"}\n",
    "d[\"Anne\"] = \"woman\"\n",
    "d.get(\"Ann\")\n",
    "d.get(\"Anne\")"
   ]
  },
  {
   "cell_type": "code",
   "execution_count": 31,
   "metadata": {},
   "outputs": [
    {
     "data": {
      "text/plain": [
       "dict_keys(['Nawaraj', 'Kettle', 'Anne'])"
      ]
     },
     "execution_count": 31,
     "metadata": {},
     "output_type": "execute_result"
    }
   ],
   "source": [
    "d.keys()   # return a list of keys which is iterable"
   ]
  },
  {
   "cell_type": "code",
   "execution_count": 30,
   "metadata": {},
   "outputs": [
    {
     "data": {
      "text/plain": [
       "True"
      ]
     },
     "execution_count": 30,
     "metadata": {},
     "output_type": "execute_result"
    }
   ],
   "source": [
    "\"Anne\" in d"
   ]
  },
  {
   "cell_type": "code",
   "execution_count": 32,
   "metadata": {},
   "outputs": [
    {
     "data": {
      "text/plain": [
       "dict_values(['man', 'boy', 'woman'])"
      ]
     },
     "execution_count": 32,
     "metadata": {},
     "output_type": "execute_result"
    }
   ],
   "source": [
    "d.values()"
   ]
  },
  {
   "cell_type": "code",
   "execution_count": 33,
   "metadata": {},
   "outputs": [
    {
     "data": {
      "text/plain": [
       "dict_items([('Nawaraj', 'man'), ('Kettle', 'boy'), ('Anne', 'woman')])"
      ]
     },
     "execution_count": 33,
     "metadata": {},
     "output_type": "execute_result"
    }
   ],
   "source": [
    "d.items()"
   ]
  }
 ],
 "metadata": {
  "kernelspec": {
   "display_name": "anaconda3",
   "language": "python",
   "name": "anaconda3"
  },
  "language_info": {
   "codemirror_mode": {
    "name": "ipython",
    "version": 3
   },
   "file_extension": ".py",
   "mimetype": "text/x-python",
   "name": "python",
   "nbconvert_exporter": "python",
   "pygments_lexer": "ipython3",
   "version": "3.8.3"
  }
 },
 "nbformat": 4,
 "nbformat_minor": 4
}
