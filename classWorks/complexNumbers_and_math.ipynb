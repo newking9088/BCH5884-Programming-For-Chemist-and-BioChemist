{
 "cells": [
  {
   "cell_type": "markdown",
   "metadata": {},
   "source": [
    "# Class_2: User Input and more about Python basics"
   ]
  },
  {
   "cell_type": "code",
   "execution_count": null,
   "metadata": {},
   "outputs": [],
   "source": [
    "# input(),int(),float(),type(),round() functions\n",
    "# are built-in functions. Functions or methods\n",
    "# always have parantheses at the end when calling it\n",
    "# ask for the user input\n",
    "x = input(\"Please enter a value: \")\n",
    "\n",
    "# input function always returns a string\n",
    "print(type(x))\n",
    "\n",
    "# To do math operations, we need data like int, float type so\n",
    "# convert input into int or float as follow called type casting\n",
    "x = int(x)\n",
    "#x = float(input(\"Please enter a value: \"))\n",
    "print(x)\n",
    "\n"
   ]
  },
  {
   "cell_type": "code",
   "execution_count": null,
   "metadata": {},
   "outputs": [],
   "source": [
    "# converting float into int\n",
    "y = 1.8\n",
    "print(int(y))\n",
    "# it drops the decimal part and just returns the integer\n",
    "#before decimal\n",
    "\n",
    "# rounding the numbers to nearest int\n",
    "print(round(y))\n",
    "\n",
    "# rounding to 2 decimal places\n",
    "print(round(y,2))\n",
    "pi = 22/7\n",
    "print(round(pi,2))\n"
   ]
  },
  {
   "cell_type": "markdown",
   "metadata": {},
   "source": [
    "# Importing Modules/ Libraries in Python"
   ]
  },
  {
   "cell_type": "code",
   "execution_count": null,
   "metadata": {},
   "outputs": [],
   "source": [
    "# use import module_name to import the modules\n",
    "import math\n",
    "\n",
    "# do help(math) to learn how to use the functions\n",
    "# contained in this module\n",
    "#The dir() function returns all properties and methods\n",
    "#of the specified object, without the values.\n",
    "dir(math)"
   ]
  },
  {
   "cell_type": "code",
   "execution_count": null,
   "metadata": {},
   "outputs": [],
   "source": [
    "# some math functions\n",
    "#find the sqrt of a number\n",
    "math.sqrt(9)\n",
    "\n",
    "# ceil() rounds the number to nearest int not less than x\n",
    "x = 2.3\n",
    "print(math.ceil(x))\n",
    "\n",
    "#floor() rounds the number to nearest int less than x\n",
    "x = 2.8\n",
    "print(math.floor(x))\n"
   ]
  },
  {
   "cell_type": "code",
   "execution_count": null,
   "metadata": {},
   "outputs": [],
   "source": [
    "# Distance between two points\n",
    "x_1 = 0\n",
    "y_1 = 0\n",
    "x_2 = 3\n",
    "y_2 = 4\n",
    "distance = ((x_2-x_1)**2 + (y_2-y_1)**2)**0.5\n",
    "print(distance)\n",
    "\n",
    "# Better method\n",
    "# ask for the user inputs and use function\n",
    "x_1 = float(input(\"Enter the x-coordinate of first point: \"))\n",
    "y_1 = float(input(\"Enter the x-coordinate of first point: \"))\n",
    "x_2 = float(input(\"Enter the x-coordinate of first point: \"))\n",
    "y_2 = float(input(\"Enter the x-coordinate of first point: \"))\n",
    "def distance(a,b,c,d):\n",
    "    return ((b-a)**2 + (d-c)**2)**0.5\n",
    "print(distance(x_1,x_2,y_1,y_2))\n"
   ]
  },
  {
   "cell_type": "code",
   "execution_count": null,
   "metadata": {},
   "outputs": [],
   "source": [
    "# Complex numbers\n",
    "x = 6 + 3j\n",
    "print(\"type x: \", type(x))\n",
    "\n",
    "#real and imag attributes of a xomples number\n",
    "print(\"x real: \", x.real)\n",
    "print(\"x imag: \", x.imag)\n",
    "\n",
    "# another way to write complex number\n",
    "y = complex (1, 2)\n",
    "print(\"y: \", y)\n",
    "\n",
    "print(\"Conjugate y: \", y.conjugate())\n",
    "\n",
    "# same mathematical operations as in int,float\n",
    "\n",
    "print(\"Add x and y: \", x+y)\n",
    "print(\"Subtract x and y: \", x-y)\n",
    "print(\"Multiply x and y: \", x*y)\n",
    "print(\"Divide x and y: \", x/y)\n",
    "\n",
    "\n",
    "# cmath module for complex numbers\n",
    "#dir(cmath) or help(cmath)\n",
    "import cmath, math, numpy\n",
    "\n",
    "print(\"Phase y in radians: \", cmath.phase(y))\n",
    "print(\"Phase in degress: \", numpy.degrees(cmath.phase(y)))\n",
    "\n",
    "# square root of a negative number\n",
    "z = cmath.sqrt(-9)\n",
    "print(\"z: \", z)"
   ]
  },
  {
   "cell_type": "markdown",
   "metadata": {},
   "source": [
    "# Hyperbolic Functions"
   ]
  },
  {
   "cell_type": "code",
   "execution_count": null,
   "metadata": {},
   "outputs": [],
   "source": [
    "#import cmath\n",
    "z = 2 + 4j\n",
    "print('Inverse hyperbolic sine value: ', cmath.asinh(z))\n",
    "print('Inverse hyperbolic cosine value: ', cmath.acosh(z))\n",
    "print('Inverse hyperbolic tangent value: ', cmath.atanh(z))\n",
    "print('Hyperbolic sine value: ', cmath.sinh(z))\n",
    "print('Hyperbolic cosine value: ', cmath.cosh(z))\n",
    "print('Hyperbolic tangent value: ', cmath.tanh(z))"
   ]
  },
  {
   "cell_type": "markdown",
   "metadata": {},
   "source": [
    "# Trigonometric Functions"
   ]
  },
  {
   "cell_type": "code",
   "execution_count": null,
   "metadata": {},
   "outputs": [],
   "source": [
    "#import cmath\n",
    "c = 2 + 4j\n",
    "print('arc sine value: ', cmath.asin(c))\n",
    "print('arc cosine value : ', cmath.acos(c))\n",
    "print('arc tangent value of complex number c : ', cmath.atan(c))\n",
    "print('sine value: ', cmath.sin(c))\n",
    "print('cosine value: ', cmath.cos(c))\n",
    "print('tangent value: ', cmath.tan(c))"
   ]
  },
  {
   "cell_type": "markdown",
   "metadata": {},
   "source": [
    "# cmath Module Constants"
   ]
  },
  {
   "cell_type": "code",
   "execution_count": null,
   "metadata": {},
   "outputs": [],
   "source": [
    "#import cmath\n",
    "print('π =', cmath.pi)\n",
    "print('e =', cmath.e)\n",
    "print('tau =', cmath.tau)\n",
    "print('Positive infinity =', cmath.inf)\n",
    "print('Positive Complex infinity =', cmath.infj)\n",
    "print('NaN =', cmath.nan)\n",
    "print('NaN Complex =', cmath.nanj)"
   ]
  },
  {
   "cell_type": "markdown",
   "metadata": {},
   "source": [
    "# cmath Power and Log Functions"
   ]
  },
  {
   "cell_type": "code",
   "execution_count": null,
   "metadata": {},
   "outputs": [],
   "source": [
    "#import cmath\n",
    "c = 1 + 2j\n",
    "print('e^c =', cmath.exp(c))\n",
    "print('log2(c) =', cmath.log(c, 2))\n",
    "print('log10(c) =', cmath.log10(c))\n",
    "print('sqrt(c) =', cmath.sqrt(c))"
   ]
  }
 ],
 "metadata": {
  "kernelspec": {
   "display_name": "Python 3",
   "language": "python",
   "name": "python3"
  },
  "language_info": {
   "codemirror_mode": {
    "name": "ipython",
    "version": 3
   },
   "file_extension": ".py",
   "mimetype": "text/x-python",
   "name": "python",
   "nbconvert_exporter": "python",
   "pygments_lexer": "ipython3",
   "version": "3.8.2"
  }
 },
 "nbformat": 4,
 "nbformat_minor": 4
}
