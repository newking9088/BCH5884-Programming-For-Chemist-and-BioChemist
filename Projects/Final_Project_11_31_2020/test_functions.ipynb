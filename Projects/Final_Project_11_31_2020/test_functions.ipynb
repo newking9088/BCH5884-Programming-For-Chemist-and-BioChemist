{
 "cells": [
  {
   "cell_type": "code",
   "execution_count": 209,
   "metadata": {},
   "outputs": [],
   "source": [
    "import os\n",
    "import pandas as pd\n",
    "import matplotlib.pyplot as plt\n",
    "import math\n",
    "\n",
    "#                  ***plotrcParam Customization***                             #\n",
    "################################################################################\n",
    "plt.rcParams.update({\n",
    "        'font.size'           : 10.0      ,        #print(plt.style.available)\n",
    "        'font.sans-serif'     : 'Calibri'    ,     # sans-serif is Helvetica\n",
    "        'xtick.top'           : False    ,\n",
    "        'xtick.major.size'    : 4        ,\n",
    "        'xtick.major.width'   : 1     ,\n",
    "        'xtick.labelsize'     : 10.0      ,\n",
    "        'xtick.direction'     : 'out'      ,\n",
    "        'xtick.minor.visible' : True      ,\n",
    "        'ytick.major.size'    : 4        ,\n",
    "        'ytick.major.width'   : 1     ,\n",
    "        'ytick.labelsize'     : 10.0      ,\n",
    "        'ytick.direction'     : 'out'      ,\n",
    "        'ytick.minor.visible' : True      ,\n",
    "        'xtick.major.pad'     : 2        ,\n",
    "        'xtick.minor.pad'     : 2        ,\n",
    "        'ytick.major.pad'     : 2        ,\n",
    "        'ytick.minor.pad'     : 2        ,\n",
    "        'savefig.dpi'         : 600      ,\n",
    "        'axes.linewidth'      : 1     ,\n",
    "        'text.usetex'         : False,\n",
    "        'axes.titlesize': 14  ,\n",
    "        'axes.labelsize': 20  ,\n",
    "        'lines.linewidth': 3   ,\n",
    "        'lines.markersize': 10   ,\n",
    "        'xtick.labelsize': 14  ,\n",
    "        'ytick.labelsize': 14,\n",
    "        'legend.frameon': True,\n",
    "         'legend.labelspacing'  : 0.5 ,\n",
    "        'figure.titleweight' : 'bold',\n",
    "        'image.aspect' : 'equal'})\n"
   ]
  },
  {
   "cell_type": "code",
   "execution_count": 210,
   "metadata": {},
   "outputs": [],
   "source": [
    "#******************************************************************************#\n",
    "def readFile(fileName):\n",
    "#******************************************************************************#\n",
    "    sampleLength = 0.0\n",
    "    tempMeasured = 0.0\n",
    "    DataFrame = pd.DataFrame()\n",
    "    while not (os.path.isfile(fileName)):\n",
    "        fileName = input(\"Please enter the correct name of your file: \")\n",
    "\n",
    "    with open(fileName,'r+') as df:\n",
    "        print(\"File found! Please wait.......!\\n\")\n",
    "        print(\"*************************************************\")\n",
    "        lines = df.readlines()[0:12]\n",
    "        if lines[2][0:4] == \"File\":\n",
    "            sampleLength = float(lines[2][20:24])\n",
    "            print(\"The length of the sample is {:.2f} mm.\".format(sampleLength))\n",
    "            print(\"*************************************************\")\n",
    "        if lines[10][33:37] == \"Temp\":\n",
    "            tempMeasured = round(float(lines[11][35:41]))\n",
    "    if tempMeasured == 4.0:\n",
    "               tempMeasured += 0.2\n",
    "    print(\"Your input file is measured at temperature {} K. \".format(tempMeasured))\n",
    "\n",
    "    DataFrame = pd.read_csv (fileName, sep ='\\t', skiprows=11,\n",
    "    usecols = [i for i in range (0,6,1)], names = [\"Time\", \"Field\",\n",
    "    \"Moment\", \"Temerature\", \"dMoment\", \"Kramer\"])\n",
    "    #df_cols = [\"Time\",\"Field\",\"Moment\",\"Temperature\",\"dMoment\",\"Kramer\"]\n",
    "    #df.columns = df_cols\n",
    "    #df = df.iloc [:, 0:6] # essentially all data\n",
    "    #pd.set_option(\"display.max_columns\",100)  #.max_rows\n",
    "    return DataFrame, sampleLength, tempMeasured  # return to main function & stored in df\n",
    "#*******************************************************************************#\n"
   ]
  },
  {
   "cell_type": "code",
   "execution_count": 211,
   "metadata": {
    "scrolled": true
   },
   "outputs": [
    {
     "name": "stdout",
     "output_type": "stream",
     "text": [
      "File found! Please wait.......!\n",
      "\n",
      "*************************************************\n",
      "The length of the sample is 4.75 mm.\n",
      "*************************************************\n",
      "Your input file is measured at temperature 4.2 K. \n"
     ]
    },
    {
     "data": {
      "text/plain": [
       "(           Time   Field    Moment  Temerature   dMoment    Kramer\n",
       " 0          50.0 -1.9984  0.100732       4.168  0.000462  0.025548\n",
       " 1         550.0 -1.9934  0.100467       4.168  0.000874  0.035120\n",
       " 2        1050.0 -1.9885  0.099630       4.168  0.001849  0.051064\n",
       " 3        1550.0 -1.9835  0.096626       4.168  0.005034  0.084201\n",
       " 4        2050.0 -1.9784  0.090747       4.168  0.011117  0.125045\n",
       " ...         ...     ...       ...         ...       ...       ...\n",
       " 6395  3199512.0 -1.9837  0.101652       4.172  0.000000  0.000000\n",
       " 6396  3200013.0 -1.9889  0.101465       4.172  0.000000  0.000000\n",
       " 6397  3200514.0 -1.9938  0.101330       4.172  0.000000  0.000000\n",
       " 6398  3201014.0 -1.9989  0.101179       4.171  0.000000  0.000000\n",
       " 6399  3201514.0 -2.0000  0.100997       4.170  0.000000  0.000000\n",
       " \n",
       " [6400 rows x 6 columns],\n",
       " 4.75,\n",
       " 4.2)"
      ]
     },
     "execution_count": 211,
     "metadata": {},
     "output_type": "execute_result"
    }
   ],
   "source": [
    "readFile(\"4.2K_Nb4Ta.txt\")"
   ]
  },
  {
   "cell_type": "code",
   "execution_count": 212,
   "metadata": {},
   "outputs": [
    {
     "name": "stdout",
     "output_type": "stream",
     "text": [
      "File found! Please wait.......!\n",
      "\n",
      "*************************************************\n",
      "The length of the sample is 4.75 mm.\n",
      "*************************************************\n",
      "Your input file is measured at temperature 4.2 K. \n"
     ]
    }
   ],
   "source": [
    "df, l, T = readFile(\"4.2K_Nb4Ta.txt\")"
   ]
  },
  {
   "cell_type": "code",
   "execution_count": 213,
   "metadata": {},
   "outputs": [],
   "source": [
    "def dataManipulate (df, sampleLength):\n",
    "#*******************************************************************************#\n",
    "    dm = df.iloc [ : , 4 ]\n",
    "    m = df.iloc [ :, df.columns.get_loc (\"Moment\") ]\n",
    "    Hall = df.iloc [:, 1]   # all values of Field\n",
    "    H = (df [\"Field\"])[ 401:3160 ]  # this is a series\n",
    "    #print(H.head())\n",
    "    df.insert(6,\"Jc\",df.dMoment/sampleLength)\n",
    "    df.insert(7,\"Fp\",df.Jc*df.Field)\n",
    "    df.insert(8,\"Km\",((df[df.Jc>0][\"Jc\"])**0.5)*(df[df.Field>0][\"Field\"]**0.25))\n",
    "    Fpall = df.Fp\n",
    "    Fp = df.Fp [401:3160]\n",
    "    Fpmaxindex = Fp.idxmax()\n",
    "    Fpmax = Fp [Fpmaxindex]\n",
    "    Hmax = H [Fpmaxindex]\n",
    "    df.insert (9, \"Hnorm\", (Hall/Hmax))\n",
    "    #print(Fpmax)\n",
    "    df.insert(10, \"Fpnorm\", Fpall/Fpmax)\n",
    "    #print(df.Fpnorm.idxmax())\n",
    "    print(\"For this temp,(Hmax,Fpmax) are ({0:.2f},{1:.2f})\".format(Hmax,Fpmax))\n",
    "    #df=df[(df.Field>0)& (df.Jc>0)]\n",
    "    #df.insert(8,\"Km\",((df.Jc)**0.5)*(df.Field**0.25))\n",
    "    #Fp = (df [\"Fp\"]) [ 401:3160 ]\n",
    "    #print(Fp.head())\n",
    "    Km = df.iloc [ 401:3160, 8]\n",
    "    #select particular values\n",
    "    #print(x1.size)\n",
    "    #print(x1.index)\n",
    "    #print(df.head())\n",
    "    #gives the idx of Fpmax\n",
    "    Hnorm = df [\"Hnorm\"] [401:3160] # its 0 is 401 of df[\"Hnorm\"]\n",
    "    Fpnorm = df [\"Fpnorm\"] [401:3160]\n",
    "    return Hall, H, Fp, Km, dm, m,Hnorm, Fpnorm, Fpmax, Hmax,df\n",
    "\n"
   ]
  },
  {
   "cell_type": "code",
   "execution_count": 214,
   "metadata": {},
   "outputs": [
    {
     "name": "stdout",
     "output_type": "stream",
     "text": [
      "For this temp,(Hmax,Fpmax) are (4.21,0.09)\n"
     ]
    }
   ],
   "source": [
    "Hall,H,Fp,Km,dm,m,Hnorm,Fpnorm,Fpmax,Hmax,df = dataManipulate (df,l)"
   ]
  },
  {
   "cell_type": "code",
   "execution_count": 215,
   "metadata": {},
   "outputs": [],
   "source": [
    "#******************************************************************************#\n",
    "def pltFpvsH42K(Fp,H,Hmax,Fpmax):\n",
    "#******************************************************************************#\n",
    "\n",
    "    plt.figure(figsize=(7,7))  # 7 cm * 7 cm \n",
    "    plt.plot(H,Fp, c = 'r', linewidth = 2.5, linestyle ='-', alpha = 0.5 )\n",
    "    plt.plot(Hmax,Fpmax,\"*b\", )\n",
    "    #plt.text ((Hmax-1.0),(Fpmax-0.17), s = 'Hmax ~ {0:.2f}T'.format(Hmax),\n",
    "    #c = 'm', fontsize = 18)\n",
    "    plt.xlabel (\" \\N{GREEK SMALL LETTER MU}\\N{SUBSCRIPT ZERO}H(T) \")\n",
    "    plt.ylabel (\" Fp (a. u.) \")\n",
    "    plt.xlim ([0.,14.])\n",
    "    #plt.gca().set_xlim(left = 0)  # gca()--get current axis method\n",
    "    plt.gca().set_ylim(bottom=0)\n",
    "    #plt.grid (True)\n",
    "    plt.title (\"4.2K_Fp vs H @\")# + HT )\n",
    "    #plt.text(11.8,2.1, s = \"@ T = 4.2 K \", fontsize = 12,\n",
    "        #bbox = dict (boxstyle='round', facecolor = 'None',\n",
    "        #alpha = 0.5, edgecolor = 'r'))\n",
    "    plt.savefig (\"42K_FpvsH.png\")\n",
    "    plt.show()\n"
   ]
  },
  {
   "cell_type": "code",
   "execution_count": 216,
   "metadata": {
    "scrolled": true
   },
   "outputs": [
    {
     "name": "stderr",
     "output_type": "stream",
     "text": [
      "findfont: Font family ['sans-serif'] not found. Falling back to DejaVu Sans.\n",
      "findfont: Font family ['sans-serif'] not found. Falling back to DejaVu Sans.\n"
     ]
    },
    {
     "data": {
      "image/png": "[encoded data removed]",
      "text/plain": [
       "<Figure size 504x504 with 1 Axes>"
      ]
     },
     "metadata": {
      "needs_background": "light"
     },
     "output_type": "display_data"
    }
   ],
   "source": [
    "pltFpvsH42K(Fp,H,Hmax,Fpmax)"
   ]
  },
  {
   "cell_type": "code",
   "execution_count": 217,
   "metadata": {},
   "outputs": [],
   "source": [
    "#******************************************************************************#\n",
    "def pltMvsH (m,Hall,inputTemp):\n",
    "#******************************************************************************#\n",
    "    \n",
    "    plt.figure(figsize=(7,7))   \n",
    "    plt.plot(Hall,m, c = 'r', linewidth = 2.5, linestyle ='-', alpha = 0.5)\n",
    "    plt.xlabel (\" Field ( T ) \")\n",
    "    plt.ylabel (\" Moment (emu) \")\n",
    "    x_lim_right = int (Hall.max())\n",
    "    plt.xlim ([0.,x_lim_right])\n",
    "    plt.gca().set_ylim(bottom=0)\n",
    "    plt.title (\"{0:.1f}K_m vs H @\".format(inputTemp) +  HT) \n",
    "    plt.savefig (\"{0:.1f}_mvsH.png\".format(inputTemp))\n",
    "    plt.show()"
   ]
  },
  {
   "cell_type": "code",
   "execution_count": 218,
   "metadata": {},
   "outputs": [
    {
     "data": {
      "image/png": "[encoded data removed]",
      "text/plain": [
       "<Figure size 504x504 with 1 Axes>"
      ]
     },
     "metadata": {
      "needs_background": "light"
     },
     "output_type": "display_data"
    }
   ],
   "source": [
    "pltMvsH(m,Hall,T)"
   ]
  },
  {
   "cell_type": "code",
   "execution_count": 173,
   "metadata": {},
   "outputs": [],
   "source": [
    "#******************************************************************************#\n",
    "def pltDMvsH (dm, Hall,inputTemp):\n",
    "#******************************************************************************#\n",
    "    \n",
    "    plt.figure(figsize=(7,7))   \n",
    "    plt.plot(Hall,dm, c = 'r', linewidth = 2.5, linestyle ='-', alpha = 0.5)\n",
    "    plt.xlabel (\" Field ( T ) \")\n",
    "    plt.ylabel (\" \\u0394m (emu) \")\n",
    "    x_lim_right = math.ceil (Hall.max())\n",
    "    plt.xlim ([0.,x_lim_right])\n",
    "    plt.gca().set_ylim(bottom=0)\n",
    "    plt.title (\"{0:.1f}K_\\u0394m vs H @\".format(inputTemp) +  HT) \n",
    "    plt.savefig (\"{0:.1f}_dmvsH.png\".format(inputTemp))\n",
    "    plt.show()"
   ]
  },
  {
   "cell_type": "code",
   "execution_count": 174,
   "metadata": {},
   "outputs": [
    {
     "data": {
      "image/png": "[encoded data removed]",
      "text/plain": [
       "<Figure size 504x504 with 1 Axes>"
      ]
     },
     "metadata": {
      "needs_background": "light"
     },
     "output_type": "display_data"
    }
   ],
   "source": [
    "pltDMvsH(dm,Hall,T)"
   ]
  },
  {
   "cell_type": "code",
   "execution_count": 177,
   "metadata": {},
   "outputs": [],
   "source": [
    "#******************************************************************************#\n",
    "def pltKmvsH (H, Km, inputTemp):\n",
    "#******************************************************************************#\n",
    "\n",
    "    plt.figure(figsize=(7,7))   \n",
    "    plt.plot(H,Km, c = 'r', linewidth = 2.5, linestyle ='-', alpha = 0.5)\n",
    "    plt.xlabel (\" Field ( T ) \")\n",
    "    plt.ylabel (\" Km (a.u.) \")\n",
    "    x_lim_right = math.ceil (H.max())\n",
    "    plt.xlim ([0.,x_lim_right])\n",
    "    plt.gca().set_ylim(bottom=0)\n",
    "    plt.title (\"{0:.1f}K_Km vs H @\".format(inputTemp) +  HT) \n",
    "    plt.savefig (\"{0:.1f}_KmvsH.png\".format(inputTemp))\n",
    "    plt.show()\n"
   ]
  },
  {
   "cell_type": "code",
   "execution_count": 178,
   "metadata": {},
   "outputs": [
    {
     "data": {
      "image/png": "[encoded data removed]",
      "text/plain": [
       "<Figure size 504x504 with 1 Axes>"
      ]
     },
     "metadata": {
      "needs_background": "light"
     },
     "output_type": "display_data"
    }
   ],
   "source": [
    "pltKmvsH(H,Km,T)"
   ]
  },
  {
   "cell_type": "code",
   "execution_count": 180,
   "metadata": {},
   "outputs": [],
   "source": [
    "#******************************************************************************#\n",
    "def pltFpnormvsHnorm (Hnorm,Fpnorm,inputTemp):\n",
    "#******************************************************************************#\n",
    "\n",
    "    plt.figure(figsize=(7,7))   \n",
    "    plt.plot(Hnorm,Fpnorm, c = 'r', linewidth = 2.5, linestyle ='-', alpha = 0.5)\n",
    "    plt.xlabel (\" H/Hmax \")\n",
    "    plt.ylabel (\" Fp/Fpmax \")\n",
    "    x_lim_right = math.ceil (Hnorm.max())\n",
    "    plt.xlim ([0.,x_lim_right])\n",
    "    plt.gca().set_ylim(bottom=0)\n",
    "    plt.title (\"{0:.1f}K_Fpnorm vs Hnorm @\".format(inputTemp)) \n",
    "    plt.savefig (\"{0:.1f}_HnormvsFpnorm.png\".format(inputTemp))\n",
    "    plt.show()"
   ]
  },
  {
   "cell_type": "code",
   "execution_count": 181,
   "metadata": {},
   "outputs": [
    {
     "data": {
      "image/png": "[encoded data removed]",
      "text/plain": [
       "<Figure size 504x504 with 1 Axes>"
      ]
     },
     "metadata": {
      "needs_background": "light"
     },
     "output_type": "display_data"
    }
   ],
   "source": [
    "pltFpnormvsHnorm(Hnorm,Fpnorm,T)"
   ]
  },
  {
   "cell_type": "code",
   "execution_count": 204,
   "metadata": {},
   "outputs": [
    {
     "data": {
      "text/html": [
       "<div>\n",
       "<style scoped>\n",
       "    .dataframe tbody tr th:only-of-type {\n",
       "        vertical-align: middle;\n",
       "    }\n",
       "\n",
       "    .dataframe tbody tr th {\n",
       "        vertical-align: top;\n",
       "    }\n",
       "\n",
       "    .dataframe thead th {\n",
       "        text-align: right;\n",
       "    }\n",
       "</style>\n",
       "<table border=\"1\" class=\"dataframe\">\n",
       "  <thead>\n",
       "    <tr style=\"text-align: right;\">\n",
       "      <th></th>\n",
       "      <th>Time</th>\n",
       "      <th>Field</th>\n",
       "      <th>Moment</th>\n",
       "      <th>Temerature</th>\n",
       "      <th>dMoment</th>\n",
       "      <th>Kramer</th>\n",
       "      <th>Jc</th>\n",
       "      <th>Fp</th>\n",
       "      <th>Km</th>\n",
       "      <th>Hnorm</th>\n",
       "      <th>Fpnorm</th>\n",
       "    </tr>\n",
       "  </thead>\n",
       "  <tbody>\n",
       "    <tr>\n",
       "      <th>0</th>\n",
       "      <td>50.0</td>\n",
       "      <td>-1.9984</td>\n",
       "      <td>0.100732</td>\n",
       "      <td>4.168</td>\n",
       "      <td>0.000462</td>\n",
       "      <td>0.025548</td>\n",
       "      <td>0.000097</td>\n",
       "      <td>-0.000194</td>\n",
       "      <td>NaN</td>\n",
       "      <td>-0.474724</td>\n",
       "      <td>-0.002094</td>\n",
       "    </tr>\n",
       "    <tr>\n",
       "      <th>1</th>\n",
       "      <td>550.0</td>\n",
       "      <td>-1.9934</td>\n",
       "      <td>0.100467</td>\n",
       "      <td>4.168</td>\n",
       "      <td>0.000874</td>\n",
       "      <td>0.035120</td>\n",
       "      <td>0.000184</td>\n",
       "      <td>-0.000367</td>\n",
       "      <td>NaN</td>\n",
       "      <td>-0.473537</td>\n",
       "      <td>-0.003953</td>\n",
       "    </tr>\n",
       "    <tr>\n",
       "      <th>2</th>\n",
       "      <td>1050.0</td>\n",
       "      <td>-1.9885</td>\n",
       "      <td>0.099630</td>\n",
       "      <td>4.168</td>\n",
       "      <td>0.001849</td>\n",
       "      <td>0.051064</td>\n",
       "      <td>0.000389</td>\n",
       "      <td>-0.000774</td>\n",
       "      <td>NaN</td>\n",
       "      <td>-0.472373</td>\n",
       "      <td>-0.008347</td>\n",
       "    </tr>\n",
       "    <tr>\n",
       "      <th>3</th>\n",
       "      <td>1550.0</td>\n",
       "      <td>-1.9835</td>\n",
       "      <td>0.096626</td>\n",
       "      <td>4.168</td>\n",
       "      <td>0.005034</td>\n",
       "      <td>0.084201</td>\n",
       "      <td>0.001060</td>\n",
       "      <td>-0.002102</td>\n",
       "      <td>NaN</td>\n",
       "      <td>-0.471185</td>\n",
       "      <td>-0.022666</td>\n",
       "    </tr>\n",
       "    <tr>\n",
       "      <th>4</th>\n",
       "      <td>2050.0</td>\n",
       "      <td>-1.9784</td>\n",
       "      <td>0.090747</td>\n",
       "      <td>4.168</td>\n",
       "      <td>0.011117</td>\n",
       "      <td>0.125045</td>\n",
       "      <td>0.002340</td>\n",
       "      <td>-0.004630</td>\n",
       "      <td>NaN</td>\n",
       "      <td>-0.469973</td>\n",
       "      <td>-0.049924</td>\n",
       "    </tr>\n",
       "    <tr>\n",
       "      <th>5</th>\n",
       "      <td>2550.0</td>\n",
       "      <td>-1.9734</td>\n",
       "      <td>0.083100</td>\n",
       "      <td>4.168</td>\n",
       "      <td>0.018941</td>\n",
       "      <td>0.163118</td>\n",
       "      <td>0.003988</td>\n",
       "      <td>-0.007869</td>\n",
       "      <td>NaN</td>\n",
       "      <td>-0.468786</td>\n",
       "      <td>-0.084846</td>\n",
       "    </tr>\n",
       "    <tr>\n",
       "      <th>6</th>\n",
       "      <td>3050.0</td>\n",
       "      <td>-1.9685</td>\n",
       "      <td>0.075049</td>\n",
       "      <td>4.168</td>\n",
       "      <td>0.027173</td>\n",
       "      <td>0.195254</td>\n",
       "      <td>0.005721</td>\n",
       "      <td>-0.011261</td>\n",
       "      <td>NaN</td>\n",
       "      <td>-0.467622</td>\n",
       "      <td>-0.121420</td>\n",
       "    </tr>\n",
       "    <tr>\n",
       "      <th>7</th>\n",
       "      <td>3551.0</td>\n",
       "      <td>-1.9634</td>\n",
       "      <td>0.067647</td>\n",
       "      <td>4.168</td>\n",
       "      <td>0.034788</td>\n",
       "      <td>0.220783</td>\n",
       "      <td>0.007324</td>\n",
       "      <td>-0.014379</td>\n",
       "      <td>NaN</td>\n",
       "      <td>-0.466410</td>\n",
       "      <td>-0.155044</td>\n",
       "    </tr>\n",
       "    <tr>\n",
       "      <th>8</th>\n",
       "      <td>4051.0</td>\n",
       "      <td>-1.9584</td>\n",
       "      <td>0.061264</td>\n",
       "      <td>4.168</td>\n",
       "      <td>0.041381</td>\n",
       "      <td>0.240644</td>\n",
       "      <td>0.008712</td>\n",
       "      <td>-0.017061</td>\n",
       "      <td>NaN</td>\n",
       "      <td>-0.465222</td>\n",
       "      <td>-0.183959</td>\n",
       "    </tr>\n",
       "    <tr>\n",
       "      <th>9</th>\n",
       "      <td>4552.0</td>\n",
       "      <td>-1.9534</td>\n",
       "      <td>0.055769</td>\n",
       "      <td>4.168</td>\n",
       "      <td>0.047060</td>\n",
       "      <td>0.256462</td>\n",
       "      <td>0.009907</td>\n",
       "      <td>-0.019353</td>\n",
       "      <td>NaN</td>\n",
       "      <td>-0.464035</td>\n",
       "      <td>-0.208671</td>\n",
       "    </tr>\n",
       "  </tbody>\n",
       "</table>\n",
       "</div>"
      ],
      "text/plain": [
       "     Time   Field    Moment  Temerature   dMoment    Kramer        Jc  \\\n",
       "0    50.0 -1.9984  0.100732       4.168  0.000462  0.025548  0.000097   \n",
       "1   550.0 -1.9934  0.100467       4.168  0.000874  0.035120  0.000184   \n",
       "2  1050.0 -1.9885  0.099630       4.168  0.001849  0.051064  0.000389   \n",
       "3  1550.0 -1.9835  0.096626       4.168  0.005034  0.084201  0.001060   \n",
       "4  2050.0 -1.9784  0.090747       4.168  0.011117  0.125045  0.002340   \n",
       "5  2550.0 -1.9734  0.083100       4.168  0.018941  0.163118  0.003988   \n",
       "6  3050.0 -1.9685  0.075049       4.168  0.027173  0.195254  0.005721   \n",
       "7  3551.0 -1.9634  0.067647       4.168  0.034788  0.220783  0.007324   \n",
       "8  4051.0 -1.9584  0.061264       4.168  0.041381  0.240644  0.008712   \n",
       "9  4552.0 -1.9534  0.055769       4.168  0.047060  0.256462  0.009907   \n",
       "\n",
       "         Fp  Km     Hnorm    Fpnorm  \n",
       "0 -0.000194 NaN -0.474724 -0.002094  \n",
       "1 -0.000367 NaN -0.473537 -0.003953  \n",
       "2 -0.000774 NaN -0.472373 -0.008347  \n",
       "3 -0.002102 NaN -0.471185 -0.022666  \n",
       "4 -0.004630 NaN -0.469973 -0.049924  \n",
       "5 -0.007869 NaN -0.468786 -0.084846  \n",
       "6 -0.011261 NaN -0.467622 -0.121420  \n",
       "7 -0.014379 NaN -0.466410 -0.155044  \n",
       "8 -0.017061 NaN -0.465222 -0.183959  \n",
       "9 -0.019353 NaN -0.464035 -0.208671  "
      ]
     },
     "execution_count": 204,
     "metadata": {},
     "output_type": "execute_result"
    }
   ],
   "source": [
    "df.head(10)"
   ]
  },
  {
   "cell_type": "code",
   "execution_count": 207,
   "metadata": {},
   "outputs": [],
   "source": [
    "def manipulated_df(df):\n",
    "    return df.to_csv(\"out.csv\",sep=\"\\t\")"
   ]
  },
  {
   "cell_type": "code",
   "execution_count": 208,
   "metadata": {},
   "outputs": [],
   "source": [
    "manipulated_df(df)"
   ]
  },
  {
   "cell_type": "code",
   "execution_count": 229,
   "metadata": {},
   "outputs": [],
   "source": [
    "def multiplePlots(*dfs):\n",
    "    # *dfs is a tuple of all dataframes input\n",
    "    for df in dfs:\n",
    "        return df"
   ]
  },
  {
   "cell_type": "code",
   "execution_count": 231,
   "metadata": {},
   "outputs": [
    {
     "data": {
      "text/plain": [
       "2"
      ]
     },
     "execution_count": 231,
     "metadata": {},
     "output_type": "execute_result"
    }
   ],
   "source": [
    "multiplePlots(2,3)"
   ]
  },
  {
   "cell_type": "code",
   "execution_count": 246,
   "metadata": {},
   "outputs": [],
   "source": [
    "def sum(a,b):\n",
    "    return (sum := a+b)"
   ]
  },
  {
   "cell_type": "code",
   "execution_count": 255,
   "metadata": {},
   "outputs": [],
   "source": [
    "def xx(c,d):\n",
    "    return c*d"
   ]
  },
  {
   "cell_type": "code",
   "execution_count": 256,
   "metadata": {},
   "outputs": [],
   "source": [
    "d = sum(2,3)"
   ]
  },
  {
   "cell_type": "code",
   "execution_count": 257,
   "metadata": {},
   "outputs": [
    {
     "data": {
      "text/plain": [
       "20"
      ]
     },
     "execution_count": 257,
     "metadata": {},
     "output_type": "execute_result"
    }
   ],
   "source": [
    "xx(4,d)"
   ]
  },
  {
   "cell_type": "code",
   "execution_count": 262,
   "metadata": {},
   "outputs": [],
   "source": [
    "def main():\n",
    "    openHTML(html,Nb3Sn)\n",
    "    writeHTMLImage(html,mvsH,\"4.2_dmvsH.png\")\n",
    "    closeHTML(html)\n",
    "\n",
    "def openHTML(f,title):\n",
    "\tf.write(\"\"\"<!DOCTYPE html PUBLIC \"-//W3C//DTD XHTML 1.0 Transitional//EN\" \"http://www.w3.org/TR/xhtml1/DTD/xhtml1-transitional.dtd\">\n",
    "<html xmlns=\"http://www.w3.org/1999/xhtml\">\n",
    "\"\"\")\n",
    "\tf.write(\"<head>\\n\")\n",
    "\tf.write(\"<title>%s</title>\\n\" % title)\n",
    "\tf.write(\"</head>\\n\")\n",
    "\tf.write(\"<body>\\n\")\n",
    "\n",
    "def writeHTMLImage(f,title, imgpath):\n",
    "\tf.write('<p class=\"aucimage\">%s</p>\\n' % title)\n",
    "\tf.write('<img src=\"%s\" />\\n' % imgpath)\n",
    "\n",
    "def closeHTML(f):\n",
    "\tf.write(\"</body>\\n\")\n",
    "\tf.write(\"</html>\\n\")\n",
    "\tf.close()\t"
   ]
  },
  {
   "cell_type": "code",
   "execution_count": null,
   "metadata": {},
   "outputs": [],
   "source": []
  }
 ],
 "metadata": {
  "kernelspec": {
   "display_name": "Python 3",
   "language": "python",
   "name": "python3"
  },
  "language_info": {
   "codemirror_mode": {
    "name": "ipython",
    "version": 3
   },
   "file_extension": ".py",
   "mimetype": "text/x-python",
   "name": "python",
   "nbconvert_exporter": "python",
   "pygments_lexer": "ipython3",
   "version": "3.8.5"
  }
 },
 "nbformat": 4,
 "nbformat_minor": 4
}
