{
 "cells": [
  {
   "cell_type": "markdown",
   "metadata": {},
   "source": [
    "<h3>Programing project #1</h3><br>\n",
    "<p>Due Friday by 11:59pm \n",
    "\n",
    "Points 100 Submitting a text entry box.\n",
    "\n",
    "Write the script described below and turn in the code on Canvas as well as your GitHub repository.\n",
    "The assignment extends work you've already done on reading in and writing out a pdb, but I want you\n",
    "to pay extra attention to getting the output in the proper format for this assignment. In other words,\n",
    "the columns need to line up properly.</p>\n",
    "\n",
    "Copy the file 2FA9noend.pdb from my GitHub repository to your project directory. \n",
    "\n",
    "Write a program that will do the following:\n",
    "\n",
    "1) Read in the pdb file\n",
    "\n",
    "2) Make a list of lists where each item in the outer list represents the information about a single atom.\n",
    "\n",
    "i.e. your list would look something like this:\n",
    "\n",
    "l=[[‘ATOM’, 1, ‘N’, …],\n",
    "\n",
    "[‘ATOM’, 2, ‘CA’, …],\n",
    "\n",
    "[‘ATOM’, 3, ‘C’, …]]\n",
    "\n",
    "3) Center the pdb based on the user’s choice of geometric center or the center of mass, and output the c\n",
    "entered pdb file. The center of mass is given by:\n",
    "\n",
    "$ \\frac{\\sum m_ir_i}{\\sum m_i}$\n",
    "\n",
    "where m specifies the mass of a given atom and r is the coordinates for a given atom. Try to figure out how \n",
    "to determine the geometric center on your own. Note, the summation sign is essentially an instruction to do\n",
    "a loop in programming. In other words, you will loop over the list of atoms that you create when you read \n",
    "the program in.\n",
    "\n",
    "This program will require everything you’ve learned so far including reading a file, parsing a string,\n",
    "and loops. Please be sure to comment your work.\n",
    "\n",
    "4) You should use formatted strings to write the new pdb file in the proper format. The PDB format document\n",
    "uploaded to canvas will help you determine the proper pdb format. (Hint: In my PDB output program, I have a\n",
    "write statement that starts like this outfile.write(\"%-6s%5d %-4s ...)\"\"\""
   ]
  },
  {
   "cell_type": "code",
   "execution_count": 2,
   "metadata": {},
   "outputs": [],
   "source": [
    "#!/usr/bin/env python3\n",
    "import sys\n",
    "import matplotlib.pyplot as plt"
   ]
  },
  {
   "cell_type": "code",
   "execution_count": 3,
   "metadata": {},
   "outputs": [],
   "source": [
    "# ask for user command line input\n",
    "pdbName = sys.argv[1]"
   ]
  },
  {
   "cell_type": "code",
   "execution_count": 13,
   "metadata": {},
   "outputs": [],
   "source": [
    "# Open and close file with open method\n",
    "with open(\"/home/newking9088/Desktop/2FA9noend.pdb\",\"r\") as f:\n",
    "    atomInfo = [line.strip(\"\\n\").split() for line in f.readlines()]\n",
    "lengthOfList = len(atomInfo)\n",
    "atomInfo;"
   ]
  },
  {
   "cell_type": "code",
   "execution_count": 5,
   "metadata": {},
   "outputs": [
    {
     "data": {
      "text/plain": [
       "[[38.745, -7.188, 38.745, 14.01],\n",
       " [37.42, -7.875, 37.42, 12.01],\n",
       " [37.517, -9.282, 37.517, 12.01],\n",
       " [38.03, -9.483, 38.03, 16.0]]"
      ]
     },
     "execution_count": 5,
     "metadata": {},
     "output_type": "execute_result"
    }
   ],
   "source": [
    "################################################################\n",
    "# Find what elements are in the pdb file\n",
    "################################################################\n",
    "elements = []\n",
    "for eachElementList in atomInfo:\n",
    "    if eachElementList[11].strip() not in elements:\n",
    "        elements.append(eachElementList[11])\n",
    "#################################################################\n",
    "#create a list containing mass\n",
    "#################################################################\n",
    "massOfElement = []\n",
    "for eachElementList in atomInfo:\n",
    "    if eachElementList[11] == \"N\":\n",
    "        massOfElement.append(14.01)\n",
    "    elif eachElementList[11] == \"C\":\n",
    "        massOfElement.append(12.01)\n",
    "    elif eachElementList[11] == \"O\":\n",
    "        massOfElement.append(16.0)\n",
    "    elif eachElementList[11] == \"S\":\n",
    "        massOfElement.append(32.07)\n",
    "#####################################################################\n",
    "# Set up x,y,z coordinates and mass of atom list to calculate r_cmx,\n",
    "# r_cmy, r_cmz where r =(r_cmx,r_cmy,r_cmz) are x , y and z coordina-\n",
    "# tes of center of mass of our pdf file\n",
    "# Our new list called xyzm, coordinates and mass will contain first\n",
    "# element as x-coordinate, second element as y-coordinate, third\n",
    "# element as z-coordinate and fourth elemet as mass in each sublist\n",
    "#####################################################################\n",
    "#xyz = [[float(atomInfo[i][6]),float(atomInfo[i][7]),float(atomInfo[i][6])] for i in range (len(atomInfo))] \n",
    "xyzm = [[float(atomInfo[i][6]),float(atomInfo[i][7]),\n",
    "         float(atomInfo[i][6]),float(massOfElement[i])]\n",
    "        for i in range (lengthOfList)] \n",
    "xyzm[0:4]"
   ]
  },
  {
   "cell_type": "code",
   "execution_count": 6,
   "metadata": {
    "scrolled": true
   },
   "outputs": [],
   "source": [
    "# Find center of mass coordinate  using the formula given above\n",
    "sum_mi = sum(massOfElement)\n",
    "\n",
    "r_cmx, r_cmy, r_cmz = [sum([xyzm[i][0]*xyzm[i][3] for i in range(lengthOfList)])/sum_mi,\n",
    "                       sum([xyzm[i][1]*xyzm[i][3] for i in range(lengthOfList)])/sum_mi,\n",
    "                       sum([xyzm[i][2]*xyzm[i][3] for i in range(lengthOfList)])/sum_mi]\n",
    "r = [r_cmx, r_cmy, r_cmz]\n",
    "r;"
   ]
  },
  {
   "cell_type": "code",
   "execution_count": 7,
   "metadata": {
    "scrolled": true
   },
   "outputs": [
    {
     "name": "stdout",
     "output_type": "stream",
     "text": [
      "Please enter 'G' if you want your own choice of geometric coordinate or enter'M' for system calculated center of Mass <- m\n"
     ]
    }
   ],
   "source": [
    "# Ask for user input how they want to center the pdb.\n",
    "# They can either choose their own arbitrary geometric\n",
    "# coordinate as center of mass, \"G\", or center of mass\n",
    "# calculated form the pdb file, \"M\"\n",
    "#######################################################\n",
    "usrChoice = input(\"Please enter 'G' if you want your own \\\n",
    "choice of geometric coordinate or enter\\\n",
    "'M' for system calculated center of Mass <- \")\n",
    "if usrChoice.lower() == 'g':\n",
    "    r_geom = [float(input(\"Please enter x, y and z-coordinates \\\n",
    "as real number, first entry will be x and so on, hit enter thrice <-  \")) for i in range(3)]\n",
    "    x_t,y_t,z_t = [[xyzm[i][0]-r_geom[0] for i in range(lengthOfList)],\n",
    "           [xyzm[i][1]-r_geom[1] for i in range(lengthOfList)],\n",
    "           [xyzm[i][0]-r_geom[2] for i in range(lengthOfList)]]\n",
    "    x_t[0:5],y_t[0:5],z_t[0:5];\n",
    "    \n",
    "else:\n",
    "    x_t,y_t,z_t = [[xyzm[i][0]-r_cmx for i in range(lengthOfList)],\n",
    "           [xyzm[i][1]-r_cmx for i in range(lengthOfList)],\n",
    "           [xyzm[i][0]-r_cmx for i in range(lengthOfList)]]\n",
    "    x_t[0:5],y_t[0:5],z_t[0:5];"
   ]
  },
  {
   "cell_type": "code",
   "execution_count": 8,
   "metadata": {},
   "outputs": [],
   "source": [
    "## Tranform the center of mass to origin\n",
    "# Each element will now have a new x, y, z\n",
    "# coordinate, say, x_t,y_t,z_t\n",
    "\n",
    "x_t,y_t,z_t = [[xyzm[i][0]-r_cmx for i in range(lengthOfList)],\n",
    "           [xyzm[i][1]-r_cmx for i in range(lengthOfList)],\n",
    "           [xyzm[i][0]-r_cmx for i in range(lengthOfList)]]\n",
    "x_t[0:5],y_t[0:5],z_t[0:5];"
   ]
  },
  {
   "cell_type": "code",
   "execution_count": 11,
   "metadata": {},
   "outputs": [],
   "source": [
    "with open(\"2FA9noend_cm.out\",\"w\") as f:\n",
    "    for i in range(lengthOfList):\n",
    "        f.write(\"{:6s}{:>5s}{:>5s} {:3s} {:1s}{:>4s}    {:>8.3f}{:>8.3f}{:>8.3f}{:>6s} {:6s}{:>11s}\\n\"\n",
    ".format(atomInfo[i][0],atomInfo[i][1],atomInfo[i][2],atomInfo[i][3],atomInfo[i][4],atomInfo[i][5],x_t[i],y_t[i],z_t[i],atomInfo[i][9],atomInfo[i][10],atomInfo[i][11]))\n"
   ]
  },
  {
   "cell_type": "code",
   "execution_count": 1,
   "metadata": {},
   "outputs": [
    {
     "name": "stdout",
     "output_type": "stream",
     "text": [
      "ATOM      1     NSER A  13      38.745  -7.188  29.492  1.00 37.02           N \n"
     ]
    }
   ],
   "source": [
    "#print(\"{:6s}{:>5d}{:>6s} {:3s} {:1s}{:>4d}    {:>8.3f}{:>8.3f}{:>8.3f}{:>6.2f}{:6.2f}{:>12s} \".format('ATOM',1,'N','SER','A',13,38.745,-7.188,29.492,1.00,37.02,'N'))"
   ]
  }
 ],
 "metadata": {
  "kernelspec": {
   "display_name": "anaconda3",
   "language": "python",
   "name": "anaconda3"
  },
  "language_info": {
   "codemirror_mode": {
    "name": "ipython",
    "version": 3
   },
   "file_extension": ".py",
   "mimetype": "text/x-python",
   "name": "python",
   "nbconvert_exporter": "python",
   "pygments_lexer": "ipython3",
   "version": "3.8.3"
  }
 },
 "nbformat": 4,
 "nbformat_minor": 4
}
